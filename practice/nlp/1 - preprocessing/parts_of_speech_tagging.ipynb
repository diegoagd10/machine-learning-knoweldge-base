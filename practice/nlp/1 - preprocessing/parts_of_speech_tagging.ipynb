{
 "cells": [
  {
   "cell_type": "markdown",
   "metadata": {},
   "source": [
    "# Parts of speech tagging\n",
    "\n",
    "CC coordinating conjunction \n",
    "\n",
    "CD cardinal digit \n",
    "\n",
    "DT determiner \n",
    "\n",
    "EX existential there (like: “there is” … think of it like “there exists”) \n",
    "\n",
    "FW foreign word \n",
    "\n",
    "IN preposition/subordinating conjunction \n",
    "\n",
    "JJ adjective – ‘big’ \n",
    "\n",
    "JJR adjective, comparative – ‘bigger’ \n",
    "\n",
    "JJS adjective, superlative – ‘biggest’ \n",
    "\n",
    "LS list marker 1) \n",
    "\n",
    "MD modal – could, will \n",
    "\n",
    "NN noun, singular ‘- desk’ \n",
    "\n",
    "NNS noun plural – ‘desks’ \n",
    "\n",
    "NNP proper noun, singular – ‘Harrison’ \n",
    "\n",
    "NNPS proper noun, plural – ‘Americans’ \n",
    "\n",
    "PDT predeterminer – ‘all the kids’ \n",
    "\n",
    "POS possessive ending parent’s \n",
    "\n",
    "PRP personal pronoun –  I, he, she \n",
    "\n",
    "PRP$ possessive pronoun – my, his, hers \n",
    "\n",
    "RB adverb – very, silently, \n",
    "\n",
    "RBR adverb, comparative – better \n",
    "\n",
    "RBS adverb, superlative – best \n",
    "\n",
    "RP particle – give up \n",
    "\n",
    "TO – to go ‘to’ the store. \n",
    "\n",
    "UH interjection – errrrrrrrm \n",
    "\n",
    "VB verb, base form – take \n",
    "\n",
    "VBD verb, past tense – took \n",
    "\n",
    "\n",
    "VBG verb, gerund/present participle – taking \n",
    "\n",
    "\n",
    "\n",
    "VBN verb, past participle – taken \n",
    "\n",
    "VBP verb, sing. present, non-3d – take \n",
    "\n",
    "VBZ verb, 3rd person sing. present – takes \n",
    "\n",
    "WDT wh-determiner – which \n",
    "\n",
    "WP wh-pronoun – who, what \n",
    "\n",
    "WP$ possessive wh-pronoun, eg- whose \n",
    "\n",
    "WRB wh-adverb, eg- where, when"
   ]
  },
  {
   "cell_type": "code",
   "execution_count": 1,
   "metadata": {},
   "outputs": [],
   "source": [
    "corpus = \"\"\"Monkey D. Luffy, also known as \"Straw Hat\" Luffy, \n",
    "            is a fictional character and the protagonist in the Japanese manga series One Piece created by Eiichiro Oda.\n",
    "            Luffy made his debut as a young boy who acquires the properties of rubber after accidentally eating one of the Devil Fruits\n",
    "            that belonged to \"Red Hair\" Shanks. Monkey D. Luffy is the captain of the Straw Hat Pirates, and dreamt of being a pirate since\n",
    "            childhood from the influence of his idol and mentor Red-Haired Shanks. At the age of 17, Luffy sets sail from the East Blue Sea\n",
    "            to the Grand Line in search of the legendary treasure, One Piece, to succeed Gol D. Roger as \"King of the Pirates\".\n",
    "            He fights multiple antagonists, and aids and befriends the inhabitants of several islands on his journey. Usually cheerful,\n",
    "            he becomes serious and even aggressive when he fights. Luffy uses his rubber body to concentrate his power, executing a range\n",
    "            of attacks.\n",
    "\"\"\""
   ]
  },
  {
   "cell_type": "code",
   "execution_count": 6,
   "metadata": {},
   "outputs": [],
   "source": [
    "import nltk\n",
    "from nltk.corpus import stopwords\n",
    "sentences = nltk.sent_tokenize(corpus)"
   ]
  },
  {
   "cell_type": "code",
   "execution_count": 7,
   "metadata": {},
   "outputs": [
    {
     "data": {
      "text/plain": [
       "['Monkey D. Luffy, also known as \"Straw Hat\" Luffy, \\n            is a fictional character and the protagonist in the Japanese manga series One Piece created by Eiichiro Oda.',\n",
       " 'Luffy made his debut as a young boy who acquires the properties of rubber after accidentally eating one of the Devil Fruits\\n            that belonged to \"Red Hair\" Shanks.',\n",
       " 'Monkey D. Luffy is the captain of the Straw Hat Pirates, and dreamt of being a pirate since\\n            childhood from the influence of his idol and mentor Red-Haired Shanks.',\n",
       " 'At the age of 17, Luffy sets sail from the East Blue Sea\\n            to the Grand Line in search of the legendary treasure, One Piece, to succeed Gol D. Roger as \"King of the Pirates\".',\n",
       " 'He fights multiple antagonists, and aids and befriends the inhabitants of several islands on his journey.',\n",
       " 'Usually cheerful,\\n            he becomes serious and even aggressive when he fights.',\n",
       " 'Luffy uses his rubber body to concentrate his power, executing a range\\n            of attacks.']"
      ]
     },
     "execution_count": 7,
     "metadata": {},
     "output_type": "execute_result"
    }
   ],
   "source": [
    "sentences"
   ]
  },
  {
   "cell_type": "code",
   "execution_count": 9,
   "metadata": {},
   "outputs": [
    {
     "name": "stderr",
     "output_type": "stream",
     "text": [
      "[nltk_data] Downloading package averaged_perceptron_tagger_eng to\n",
      "[nltk_data]     /home/diegoagd10/nltk_data...\n",
      "[nltk_data]   Unzipping taggers/averaged_perceptron_tagger_eng.zip.\n"
     ]
    },
    {
     "data": {
      "text/plain": [
       "True"
      ]
     },
     "execution_count": 9,
     "metadata": {},
     "output_type": "execute_result"
    }
   ],
   "source": [
    "nltk.download('averaged_perceptron_tagger_eng')"
   ]
  },
  {
   "cell_type": "code",
   "execution_count": 10,
   "metadata": {},
   "outputs": [
    {
     "name": "stdout",
     "output_type": "stream",
     "text": [
      "[('Monkey', 'NNP'), ('D.', 'NNP'), ('Luffy', 'NNP'), (',', ','), ('also', 'RB'), ('known', 'VBN'), ('``', '``'), ('Straw', 'JJ'), ('Hat', 'NNP'), (\"''\", \"''\"), ('Luffy', 'NNP'), (',', ','), ('fictional', 'JJ'), ('character', 'NN'), ('protagonist', 'VBP'), ('Japanese', 'JJ'), ('manga', 'JJ'), ('series', 'NN'), ('One', 'NNP'), ('Piece', 'NNP'), ('created', 'VBD'), ('Eiichiro', 'NNP'), ('Oda', 'NNP'), ('.', '.')]\n",
      "[('Luffy', 'NNP'), ('made', 'VBD'), ('debut', 'NN'), ('young', 'JJ'), ('boy', 'NN'), ('acquires', 'VBZ'), ('properties', 'NNS'), ('rubber', 'VBP'), ('accidentally', 'RB'), ('eating', 'VBG'), ('one', 'CD'), ('Devil', 'NNP'), ('Fruits', 'NNP'), ('belonged', 'VBD'), ('``', '``'), ('Red', 'NNP'), ('Hair', 'NNP'), (\"''\", \"''\"), ('Shanks', 'NNP'), ('.', '.')]\n",
      "[('Monkey', 'NNP'), ('D.', 'NNP'), ('Luffy', 'NNP'), ('captain', 'VBP'), ('Straw', 'NNP'), ('Hat', 'NNP'), ('Pirates', 'NNP'), (',', ','), ('dreamt', 'NN'), ('pirate', 'NN'), ('since', 'IN'), ('childhood', 'NN'), ('influence', 'NN'), ('idol', 'JJ'), ('mentor', 'NN'), ('Red-Haired', 'JJ'), ('Shanks', 'NNP'), ('.', '.')]\n",
      "[('At', 'IN'), ('age', 'NN'), ('17', 'CD'), (',', ','), ('Luffy', 'NNP'), ('sets', 'VBZ'), ('sail', 'JJ'), ('East', 'NNP'), ('Blue', 'NNP'), ('Sea', 'NNP'), ('Grand', 'NNP'), ('Line', 'NNP'), ('search', 'NN'), ('legendary', 'JJ'), ('treasure', 'NN'), (',', ','), ('One', 'CD'), ('Piece', 'NNP'), (',', ','), ('succeed', 'VB'), ('Gol', 'NNP'), ('D.', 'NNP'), ('Roger', 'NNP'), ('``', '``'), ('King', 'NNP'), ('Pirates', 'NNPS'), (\"''\", \"''\"), ('.', '.')]\n",
      "[('He', 'PRP'), ('fights', 'VBZ'), ('multiple', 'JJ'), ('antagonists', 'NNS'), (',', ','), ('aids', 'NNS'), ('befriends', 'VBZ'), ('inhabitants', 'NNS'), ('several', 'JJ'), ('islands', 'NNS'), ('journey', 'NN'), ('.', '.')]\n",
      "[('Usually', 'RB'), ('cheerful', 'JJ'), (',', ','), ('becomes', 'VBZ'), ('serious', 'JJ'), ('even', 'RB'), ('aggressive', 'JJ'), ('fights', 'NNS'), ('.', '.')]\n",
      "[('Luffy', 'NNP'), ('uses', 'VBZ'), ('rubber', 'VB'), ('body', 'NN'), ('concentrate', 'JJ'), ('power', 'NN'), (',', ','), ('executing', 'VBG'), ('range', 'NN'), ('attacks', 'NNS'), ('.', '.')]\n"
     ]
    }
   ],
   "source": [
    "## We will find the Pos Tag\n",
    "\n",
    "english_stopwords = stopwords.words('english')\n",
    "\n",
    "for i in range(len(sentences)):\n",
    "    words = nltk.word_tokenize(sentences[i])\n",
    "    words = [word for word in words if word not in english_stopwords]\n",
    "    pos_tag = nltk.pos_tag(words)\n",
    "    print(pos_tag)\n",
    "    #sentences[i] = ' '.join(words)"
   ]
  }
 ],
 "metadata": {
  "kernelspec": {
   "display_name": "default",
   "language": "python",
   "name": "python3"
  },
  "language_info": {
   "codemirror_mode": {
    "name": "ipython",
    "version": 3
   },
   "file_extension": ".py",
   "mimetype": "text/x-python",
   "name": "python",
   "nbconvert_exporter": "python",
   "pygments_lexer": "ipython3",
   "version": "3.10.13"
  }
 },
 "nbformat": 4,
 "nbformat_minor": 2
}
